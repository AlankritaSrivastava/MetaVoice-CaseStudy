{
 "cells": [
  {
   "cell_type": "code",
   "execution_count": 1,
   "metadata": {
    "scrolled": true
   },
   "outputs": [],
   "source": [
    "import boto3\n",
    "import whisper\n",
    "import subprocess\n",
    "import io\n",
    "import os\n",
    "import time\n",
    "import torch\n",
    "import numpy as np\n",
    "import pandas as pd"
   ]
  },
  {
   "cell_type": "code",
   "execution_count": 29,
   "metadata": {},
   "outputs": [],
   "source": [
    "import pyarrow as pa\n",
    "import pyarrow.parquet as pq\n",
    "import awswrangler as wr"
   ]
  },
  {
   "cell_type": "code",
   "execution_count": 2,
   "metadata": {},
   "outputs": [],
   "source": [
    "def tokenise(audio_np_array: np.ndarray) -> torch.Tensor:\n",
    "    \"\"\"\n",
    "    Function to tokenise an audio file represented as a NumPy array.\n",
    "\n",
    "    Args:\n",
    "    - audio_np_array (np.ndarray): The audio file as a NumPy array.\n",
    "\n",
    "    Returns:\n",
    "    - torch.Tensor: A random 1D tensor with dtype int16 and variable length in range (20, 1000).\n",
    "    \"\"\"\n",
    "\n",
    "    # Check if the input is a NumPy array\n",
    "    if not isinstance(audio_np_array, np.ndarray):\n",
    "        raise ValueError(\"Input should be a NumPy array\")\n",
    "\n",
    "    # Time delay to simulate model inference\n",
    "    time.sleep(0.15)\n",
    "\n",
    "    tensor_length = np.random.randint(20, 1001)  # 1001 is exclusive\n",
    "    return torch.randint(low=-32768, high=32767, size=(tensor_length,), dtype=torch.int16)\n",
    "\n",
    "\n",
    "\n",
    "def transcribe_tokenize(file, s3, model, bucket_name):\n",
    "    \"\"\"\n",
    "    Function to transcibe and tokenize an audio file .\n",
    "\n",
    "    Args:\n",
    "    - file (str): file path of audio file.\n",
    "    - s3 (s3 Object): AWS S3 Object.\n",
    "    - model (whisper model): Whisper model object.\n",
    "    - bucket_name (str): AWS Bucket Name.\n",
    "\n",
    "    Returns:\n",
    "    - text (str): Transcribed text from whisper.\n",
    "    - tokenized(torch.Tensor): A random 1D tensor with dtype int16 and variable length in range (20, 1000).\n",
    "    \"\"\"\n",
    "    if file.endswith('.flac'): \n",
    "    \n",
    "        local_audio_path = file.split('wav48_silence_trimmed')[1].replace('/', '0')\n",
    "                \n",
    "        s3.download_file(bucket_name, file, local_audio_path)\n",
    "        \n",
    "        result = model.transcribe(local_audio_path)\n",
    "        \n",
    "        text = result[\"text\"]        \n",
    "\n",
    "        tokenized = np.array(tokenise(whisper.load_audio(local_audio_path)))\n",
    "        \n",
    "    else:\n",
    "        text, tokenized = np.nan, np.nan\n",
    "    \n",
    "    return (text, tokenized)\n"
   ]
  },
  {
   "cell_type": "code",
   "execution_count": 3,
   "metadata": {},
   "outputs": [],
   "source": [
    "aws_access_key_id = \"d6f2614d1a84055eb1fa65b50f394cb0\"\n",
    "aws_secret_access_key = \"a1417644adc0d025b325da0fff96a2dc60813545efa44d9c291e14e66e4e441f\"\n",
    "\n",
    "bucket_name = 'data-engineer-test'\n",
    "endpoint_url = 'https://bdadc4417ecd7714dd7d42a104a276c2.r2.cloudflarestorage.com'"
   ]
  },
  {
   "cell_type": "code",
   "execution_count": 4,
   "metadata": {},
   "outputs": [],
   "source": [
    "s3 = boto3.client('s3', aws_access_key_id=aws_access_key_id, \n",
    "                  aws_secret_access_key=aws_secret_access_key, \n",
    "                  endpoint_url=endpoint_url)"
   ]
  },
  {
   "cell_type": "code",
   "execution_count": 5,
   "metadata": {},
   "outputs": [
    {
     "data": {
      "text/html": [
       "<div>\n",
       "<style scoped>\n",
       "    .dataframe tbody tr th:only-of-type {\n",
       "        vertical-align: middle;\n",
       "    }\n",
       "\n",
       "    .dataframe tbody tr th {\n",
       "        vertical-align: top;\n",
       "    }\n",
       "\n",
       "    .dataframe thead th {\n",
       "        text-align: right;\n",
       "    }\n",
       "</style>\n",
       "<table border=\"1\" class=\"dataframe\">\n",
       "  <thead>\n",
       "    <tr style=\"text-align: right;\">\n",
       "      <th></th>\n",
       "      <th>Key</th>\n",
       "      <th>LastModified</th>\n",
       "      <th>ETag</th>\n",
       "      <th>Size</th>\n",
       "      <th>StorageClass</th>\n",
       "      <th>Owner.DisplayName</th>\n",
       "      <th>Owner.ID</th>\n",
       "    </tr>\n",
       "  </thead>\n",
       "  <tbody>\n",
       "    <tr>\n",
       "      <th>995</th>\n",
       "      <td>wav48_silence_trimmed/p226/p226_270_mic1.flac</td>\n",
       "      <td>2023-08-24 00:28:38.048000+00:00</td>\n",
       "      <td>\"6c9e6cd6f9af143688bf91df30dcaeb2\"</td>\n",
       "      <td>147053</td>\n",
       "      <td>STANDARD</td>\n",
       "      <td>bdadc4417ecd7714dd7d42a104a276c2</td>\n",
       "      <td>bdadc4417ecd7714dd7d42a104a276c2</td>\n",
       "    </tr>\n",
       "    <tr>\n",
       "      <th>996</th>\n",
       "      <td>wav48_silence_trimmed/p226/p226_270_mic2.flac</td>\n",
       "      <td>2023-08-24 00:28:38.027000+00:00</td>\n",
       "      <td>\"a8a712d22b068c5b9a614fbd571a973c\"</td>\n",
       "      <td>135809</td>\n",
       "      <td>STANDARD</td>\n",
       "      <td>bdadc4417ecd7714dd7d42a104a276c2</td>\n",
       "      <td>bdadc4417ecd7714dd7d42a104a276c2</td>\n",
       "    </tr>\n",
       "    <tr>\n",
       "      <th>997</th>\n",
       "      <td>wav48_silence_trimmed/p226/p226_271_mic1.flac</td>\n",
       "      <td>2023-08-24 00:28:38.139000+00:00</td>\n",
       "      <td>\"1a4e1d710be9e661e5b5f6fdc96d5fd3\"</td>\n",
       "      <td>96778</td>\n",
       "      <td>STANDARD</td>\n",
       "      <td>bdadc4417ecd7714dd7d42a104a276c2</td>\n",
       "      <td>bdadc4417ecd7714dd7d42a104a276c2</td>\n",
       "    </tr>\n",
       "    <tr>\n",
       "      <th>998</th>\n",
       "      <td>wav48_silence_trimmed/p226/p226_271_mic2.flac</td>\n",
       "      <td>2023-08-24 00:28:38.194000+00:00</td>\n",
       "      <td>\"d1ab352749c2eaad120333b763899086\"</td>\n",
       "      <td>91856</td>\n",
       "      <td>STANDARD</td>\n",
       "      <td>bdadc4417ecd7714dd7d42a104a276c2</td>\n",
       "      <td>bdadc4417ecd7714dd7d42a104a276c2</td>\n",
       "    </tr>\n",
       "    <tr>\n",
       "      <th>999</th>\n",
       "      <td>wav48_silence_trimmed/p226/p226_272_mic1.flac</td>\n",
       "      <td>2023-08-24 00:28:38.226000+00:00</td>\n",
       "      <td>\"01a71e53b399d29ee3e9c5db91214de4\"</td>\n",
       "      <td>151981</td>\n",
       "      <td>STANDARD</td>\n",
       "      <td>bdadc4417ecd7714dd7d42a104a276c2</td>\n",
       "      <td>bdadc4417ecd7714dd7d42a104a276c2</td>\n",
       "    </tr>\n",
       "  </tbody>\n",
       "</table>\n",
       "</div>"
      ],
      "text/plain": [
       "                                               Key  \\\n",
       "995  wav48_silence_trimmed/p226/p226_270_mic1.flac   \n",
       "996  wav48_silence_trimmed/p226/p226_270_mic2.flac   \n",
       "997  wav48_silence_trimmed/p226/p226_271_mic1.flac   \n",
       "998  wav48_silence_trimmed/p226/p226_271_mic2.flac   \n",
       "999  wav48_silence_trimmed/p226/p226_272_mic1.flac   \n",
       "\n",
       "                        LastModified                                ETag  \\\n",
       "995 2023-08-24 00:28:38.048000+00:00  \"6c9e6cd6f9af143688bf91df30dcaeb2\"   \n",
       "996 2023-08-24 00:28:38.027000+00:00  \"a8a712d22b068c5b9a614fbd571a973c\"   \n",
       "997 2023-08-24 00:28:38.139000+00:00  \"1a4e1d710be9e661e5b5f6fdc96d5fd3\"   \n",
       "998 2023-08-24 00:28:38.194000+00:00  \"d1ab352749c2eaad120333b763899086\"   \n",
       "999 2023-08-24 00:28:38.226000+00:00  \"01a71e53b399d29ee3e9c5db91214de4\"   \n",
       "\n",
       "       Size StorageClass                 Owner.DisplayName  \\\n",
       "995  147053     STANDARD  bdadc4417ecd7714dd7d42a104a276c2   \n",
       "996  135809     STANDARD  bdadc4417ecd7714dd7d42a104a276c2   \n",
       "997   96778     STANDARD  bdadc4417ecd7714dd7d42a104a276c2   \n",
       "998   91856     STANDARD  bdadc4417ecd7714dd7d42a104a276c2   \n",
       "999  151981     STANDARD  bdadc4417ecd7714dd7d42a104a276c2   \n",
       "\n",
       "                             Owner.ID  \n",
       "995  bdadc4417ecd7714dd7d42a104a276c2  \n",
       "996  bdadc4417ecd7714dd7d42a104a276c2  \n",
       "997  bdadc4417ecd7714dd7d42a104a276c2  \n",
       "998  bdadc4417ecd7714dd7d42a104a276c2  \n",
       "999  bdadc4417ecd7714dd7d42a104a276c2  "
      ]
     },
     "execution_count": 5,
     "metadata": {},
     "output_type": "execute_result"
    }
   ],
   "source": [
    "model = whisper.load_model(\"base\")\n",
    "\n",
    "response = s3.list_objects(Bucket=bucket_name)\n",
    "\n",
    "process_df = pd.json_normalize(response, record_path= 'Contents')\n",
    "\n",
    "process_df.tail()"
   ]
  },
  {
   "cell_type": "code",
   "execution_count": 6,
   "metadata": {},
   "outputs": [
    {
     "name": "stderr",
     "output_type": "stream",
     "text": [
      "D:\\Anaconda3\\envs\\alan38\\lib\\site-packages\\whisper\\transcribe.py:114: UserWarning: FP16 is not supported on CPU; using FP32 instead\n",
      "  warnings.warn(\"FP16 is not supported on CPU; using FP32 instead\")\n"
     ]
    }
   ],
   "source": [
    "process_df[['transcribed_text', 'tokenized_info']] =  process_df.apply(lambda x: transcribe_tokenized(x['Key'],s3, model, bucket_name),axis = 1,  result_type = 'expand')"
   ]
  },
  {
   "cell_type": "code",
   "execution_count": 8,
   "metadata": {},
   "outputs": [],
   "source": [
    "#Save to CSV if required\n",
    "#process_df.to_csv('processed_df.xlsx')"
   ]
  },
  {
   "cell_type": "code",
   "execution_count": 16,
   "metadata": {},
   "outputs": [],
   "source": [
    "process_df['LastModifiedDate'] = pd.to_datetime(process_df['LastModified']).dt.date\n",
    "process_df['LastModifiedHour'] = pd.to_datetime(process_df['LastModified']).dt.hour\n",
    "process_df['LastModifiedMinute'] = pd.to_datetime(process_df['LastModified']).dt.minute\n",
    "process_df['LastModifiedSecond'] = pd.to_datetime(process_df['LastModified']).dt.second"
   ]
  },
  {
   "cell_type": "code",
   "execution_count": 39,
   "metadata": {},
   "outputs": [],
   "source": [
    "process_df['FolderName'] = process_df['Key'].apply(lambda x: x.split('/')[-2] if x.endswith('.flac') else np.nan)"
   ]
  },
  {
   "cell_type": "code",
   "execution_count": 42,
   "metadata": {},
   "outputs": [],
   "source": [
    "partitioned_data = process_df.groupby(['FolderName', 'LastModifiedDate', 'LastModifiedHour', 'LastModifiedMinute'])"
   ]
  },
  {
   "cell_type": "code",
   "execution_count": 50,
   "metadata": {},
   "outputs": [
    {
     "name": "stdout",
     "output_type": "stream",
     "text": [
      "('p225', datetime.date(2023, 8, 24), 0, 21)\n",
      "('p225', datetime.date(2023, 8, 24), 0, 22)\n",
      "('p225', datetime.date(2023, 8, 24), 0, 23)\n",
      "('p226', datetime.date(2023, 8, 24), 0, 28)\n"
     ]
    }
   ],
   "source": [
    "# Upload the Parquet file to S3\n",
    "for partition_key, partition_df in partitioned_data:\n",
    "    print(partition_key)\n",
    "    partition_file = f'{partition_key}.parquet'\n",
    "    partition_df = partition_df[['Key', 'transcribed_text', 'tokenized_info' ]]\n",
    "    table = pa.Table.from_pandas(partition_df)\n",
    "    pq.write_table(table, partition_file)\n",
    "    \n",
    "    s3.upload_file(partition_file, bucket_name, f'output_parquet/{partition_key}.parquet')"
   ]
  },
  {
   "cell_type": "code",
   "execution_count": null,
   "metadata": {},
   "outputs": [],
   "source": []
  }
 ],
 "metadata": {
  "kernelspec": {
   "display_name": "Python 3 (ipykernel)",
   "language": "python",
   "name": "python3"
  },
  "language_info": {
   "codemirror_mode": {
    "name": "ipython",
    "version": 3
   },
   "file_extension": ".py",
   "mimetype": "text/x-python",
   "name": "python",
   "nbconvert_exporter": "python",
   "pygments_lexer": "ipython3",
   "version": "3.8.18"
  }
 },
 "nbformat": 4,
 "nbformat_minor": 4
}
